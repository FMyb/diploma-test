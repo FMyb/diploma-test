{
 "cells": [
  {
   "cell_type": "code",
   "execution_count": null,
   "metadata": {},
   "outputs": [],
   "source": [
    "import cloudpickle\n",
    "from datetime import datetime\n",
    "with open('dump.cpkl', 'wb') as f:\n",
    "    start = datetime.now()\n",
    "    cloudpickle.dump(df, f)\n",
    "    finish = datetime.now()\n",
    "    print(f'dump time: {finish - start}')"
   ]
  },
  {
   "cell_type": "code",
   "execution_count": null,
   "metadata": {},
   "outputs": [],
   "source": []
  }
 ],
 "metadata": {
  "language_info": {
   "name": "python"
  },
  "orig_nbformat": 4
 },
 "nbformat": 4,
 "nbformat_minor": 2
}
