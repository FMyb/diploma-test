{
 "cells": [
  {
   "cell_type": "code",
   "execution_count": null,
   "metadata": {},
   "outputs": [],
   "source": [
    "import cloudpickle\n",
    "from datetime import datetime\n",
    "df1 = None\n",
    "with open('dump.cpkl', 'rb') as f:\n",
    "    start = datetime.now()\n",
    "    df1 = cloudpickle.load(f)\n",
    "    finish = datetime.now()\n",
    "    print(f'load time: {finish - start}')"
   ]
  }
 ],
 "metadata": {
  "language_info": {
   "name": "python"
  },
  "orig_nbformat": 4
 },
 "nbformat": 4,
 "nbformat_minor": 2
}
